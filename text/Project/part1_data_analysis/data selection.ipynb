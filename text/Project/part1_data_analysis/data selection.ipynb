{
 "cells": [
  {
   "cell_type": "markdown",
   "id": "57f4deb5",
   "metadata": {},
   "source": [
    "Generate data"
   ]
  },
  {
   "cell_type": "code",
   "execution_count": null,
   "id": "48906fd0",
   "metadata": {},
   "outputs": [],
   "source": [
    "import json\n",
    "import random\n",
    "randomSeed = 666\n",
    "random.seed(randomSeed)\n",
    "\n",
    "\n",
    "with open(\"C:/Users/mjtyyds/Desktop/AI6122/Cell_Phones_and_Accessories_5.json\", 'r', encoding='utf-8') as file:\n",
    "    d = file.readlines()\n",
    "\n",
    "dataJson = [json.loads(x) for x in d]\n",
    "businessList = list(set([x.get(\"asin\") for x in dataJson]))\n",
    "business100 = random.sample(businessList, 200)\n",
    "print(len(business100))\n",
    "reviewList = [x for x in dataJson if x.get(\"asin\") in business100]\n",
    "print(len(reviewList))\n",
    "with open(\"dataCell.json\", \"w\") as f:\n",
    "    json.dump(reviewList, f)"
   ]
  },
  {
   "cell_type": "code",
   "execution_count": null,
   "id": "c851bd0b",
   "metadata": {},
   "outputs": [],
   "source": [
    "with open(\"C:/Users/mjtyyds/Desktop/AI6122/Sports_and_Outdoors_5.json\", 'r', encoding='utf-8') as file:\n",
    "    d = file.readlines()\n",
    "\n",
    "dataJson = [json.loads(x) for x in d]\n",
    "businessList = list(set([x.get(\"asin\") for x in dataJson]))\n",
    "business100 = random.sample(businessList, 200)\n",
    "reviewList = [x for x in dataJson if x.get(\"asin\") in business100]\n",
    "\n",
    "with open(\"dataSports.json\", \"w\") as f:\n",
    "    json.dump(reviewList, f)"
   ]
  }
 ],
 "metadata": {
  "kernelspec": {
   "display_name": "Python 3",
   "language": "python",
   "name": "python3"
  },
  "language_info": {
   "codemirror_mode": {
    "name": "ipython",
    "version": 3
   },
   "file_extension": ".py",
   "mimetype": "text/x-python",
   "name": "python",
   "nbconvert_exporter": "python",
   "pygments_lexer": "ipython3",
   "version": "3.8.8"
  }
 },
 "nbformat": 4,
 "nbformat_minor": 5
}
