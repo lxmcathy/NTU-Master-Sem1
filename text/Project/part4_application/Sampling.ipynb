{
 "cells": [
  {
   "cell_type": "code",
   "execution_count": 1,
   "id": "7cd6b88e",
   "metadata": {},
   "outputs": [],
   "source": [
    "import json\n",
    "import pandas as pd\n",
    "import random"
   ]
  },
  {
   "cell_type": "code",
   "execution_count": 2,
   "id": "bbf0ee08",
   "metadata": {},
   "outputs": [],
   "source": [
    "# Set Ramdom seed\n",
    "randomSeed = 666\n",
    "random.seed(randomSeed)"
   ]
  },
  {
   "cell_type": "code",
   "execution_count": 3,
   "id": "0fb6ed53",
   "metadata": {},
   "outputs": [],
   "source": [
    "# Sampling the dataset according to n asin values from \n",
    "sample_asin = lambda df,n:df[df[\"asin\"].isin(random.sample(list(df[\"asin\"].unique()),n))]"
   ]
  },
  {
   "cell_type": "code",
   "execution_count": 4,
   "id": "06a82048",
   "metadata": {},
   "outputs": [],
   "source": [
    "fileNameList = [\"Cell_Phones_and_Accessories_5\", \"Sports_and_Outdoors_5\"]\n",
    "rootPath = \"./Data/\""
   ]
  },
  {
   "cell_type": "code",
   "execution_count": 5,
   "id": "1dd7a918",
   "metadata": {},
   "outputs": [],
   "source": [
    "n = 200 # \"randomly sample 200 products\"\n",
    "for i in range(len(fileNameList)):\n",
    "    josnPath = rootPath + fileNameList[i]+\".json\"\n",
    "    csvPath = rootPath + \"Sampled_\" + fileNameList[i]+\".csv\"\n",
    "    df = pd.read_json(josnPath, lines=True) # Read data\n",
    "    sampled_df = sample_asin(df,n) # Do sampling\n",
    "    sampled_df.to_csv(csvPath, index = False) # Store Result"
   ]
  },
  {
   "cell_type": "code",
   "execution_count": null,
   "id": "6987d4fb",
   "metadata": {},
   "outputs": [],
   "source": []
  }
 ],
 "metadata": {
  "kernelspec": {
   "display_name": "Python 3 (ipykernel)",
   "language": "python",
   "name": "python3"
  },
  "language_info": {
   "codemirror_mode": {
    "name": "ipython",
    "version": 3
   },
   "file_extension": ".py",
   "mimetype": "text/x-python",
   "name": "python",
   "nbconvert_exporter": "python",
   "pygments_lexer": "ipython3",
   "version": "3.10.4"
  }
 },
 "nbformat": 4,
 "nbformat_minor": 5
}
