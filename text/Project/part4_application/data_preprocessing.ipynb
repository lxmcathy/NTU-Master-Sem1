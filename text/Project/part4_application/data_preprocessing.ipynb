{
 "cells": [
  {
   "cell_type": "code",
   "execution_count": 1,
   "id": "5bffc5b8",
   "metadata": {},
   "outputs": [],
   "source": [
    "import pandas as pd\n",
    "import numpy as np\n",
    "import nltk"
   ]
  },
  {
   "cell_type": "code",
   "execution_count": 2,
   "id": "b5a69e81",
   "metadata": {},
   "outputs": [],
   "source": [
    "# data preprocessing functions\n",
    "def word_lemmatisation(tagged_token):\n",
    "    token = tagged_token[0]\n",
    "    tag = tagged_token[1]\n",
    "    wnl = nltk.stem.WordNetLemmatizer()\n",
    "    wn = nltk.corpus.wordnet\n",
    "    tag_dict = {'J':wn.ADJ,'R':wn.ADV,'N':wn.NOUN,'V':wn.VERB}\n",
    "    if tag[0] in tag_dict.keys():\n",
    "        return wnl.lemmatize(token, tag_dict[tag[0]])# Remove punctuation\n",
    "    else:\n",
    "        return token\n",
    "def pre_processing(line):\n",
    "    tokenizer = nltk.RegexpTokenizer(r\"[a-zA-Z]+\")# Remove numbers\n",
    "    tokens = tokenizer.tokenize(line.lower())# Lowercase\n",
    "    tagged_tokens = nltk.pos_tag(tokens)# Part of speech tagging\n",
    "    lemmatized_tokens = [word_lemmatisation(tagged_token) for tagged_token in tagged_tokens]# Remove punctuation\n",
    "    sw = nltk.corpus.stopwords.words(\"english\")\n",
    "    res = ' '.join(list(filter(lambda x:x not in sw,lemmatized_tokens)))# Remove stop words\n",
    "    if len(res):\n",
    "        return res\n",
    "    else:\n",
    "        return None"
   ]
  },
  {
   "cell_type": "code",
   "execution_count": 3,
   "id": "4c562a1d",
   "metadata": {},
   "outputs": [],
   "source": [
    "data_name = \"dataCell\""
   ]
  },
  {
   "cell_type": "code",
   "execution_count": 4,
   "id": "05852d68",
   "metadata": {},
   "outputs": [],
   "source": [
    "# Load data\n",
    "df = pd.read_json(\"./Data/\"+data_name+\".json\")\n",
    "selected_df = pd.DataFrame()\n",
    "selected_df[\"reviews\"] = df.loc[:,\"reviewText\"]\n",
    "selected_df[\"sentiments\"] = df.loc[:,\"overall\"]"
   ]
  },
  {
   "cell_type": "code",
   "execution_count": 5,
   "id": "2acab815",
   "metadata": {},
   "outputs": [],
   "source": [
    "pos_df = selected_df[selected_df[\"sentiments\"]>3].copy()\n",
    "pos_df[\"sentiments\"] = 1\n",
    "neg_df = selected_df[selected_df[\"sentiments\"]<3].copy()\n",
    "neg_df[\"sentiments\"] = 0"
   ]
  },
  {
   "cell_type": "code",
   "execution_count": 6,
   "id": "cc3b3a6b",
   "metadata": {},
   "outputs": [],
   "source": [
    "mixed_df = pd.concat([pos_df,neg_df]).sample(frac=1, random_state=666).reset_index(drop=True)"
   ]
  },
  {
   "cell_type": "code",
   "execution_count": 7,
   "id": "bea29b18",
   "metadata": {},
   "outputs": [],
   "source": [
    "# Do pre-processing\n",
    "mixed_df[\"reviews\"] = mixed_df.loc[:,\"reviews\"].map(pre_processing)# Do pre-processing\n",
    "mixed_df = mixed_df.dropna()\n",
    "mixed_df[\"reviews\"] = mixed_df[\"reviews\"].astype(str)\n",
    "mixed_df.to_csv(\"./Data/Processed_\"+data_name+\".csv\" ,index=False)# save pre-processed data as csv"
   ]
  },
  {
   "cell_type": "code",
   "execution_count": null,
   "id": "723c9034",
   "metadata": {},
   "outputs": [],
   "source": []
  }
 ],
 "metadata": {
  "kernelspec": {
   "display_name": "Python 3 (ipykernel)",
   "language": "python",
   "name": "python3"
  },
  "language_info": {
   "codemirror_mode": {
    "name": "ipython",
    "version": 3
   },
   "file_extension": ".py",
   "mimetype": "text/x-python",
   "name": "python",
   "nbconvert_exporter": "python",
   "pygments_lexer": "ipython3",
   "version": "3.10.4"
  }
 },
 "nbformat": 4,
 "nbformat_minor": 5
}
